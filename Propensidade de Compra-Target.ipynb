{
 "cells": [
  {
   "cell_type": "markdown",
   "metadata": {},
   "source": [
    " # <p style=\"text-align: center;\">Prevendo a Propensidade de Compra do Consumidor</p> "
   ]
  },
  {
   "cell_type": "markdown",
   "metadata": {},
   "source": [
    "Neste exemplo, mostraremos como prever a propensão dos clientes potenciais. Usaremos dados de cliques na web sobre os links clicados pelo usuário enquanto ele navega para prever sua propensão a comprar o produto. Usando essa propensão, decidiremos se queremos criar um ponto de contato, neste caso enviar uma propaganda nas mídias sociais com 10% de desconto sobre o produto."
   ]
  },
  {
   "cell_type": "markdown",
   "metadata": {},
   "source": [
    "## Gravando e Acessando os Dados\n",
    "Carregaremos o arquivo de dados para este exemplo e verificaremos as estatísticas e colunas resumidas desse arquivo."
   ]
  },
  {
   "cell_type": "code",
   "execution_count": 2,
   "metadata": {
    "scrolled": true
   },
   "outputs": [
    {
     "data": {
      "text/plain": [
       "SESSION_ID          int64\n",
       "Click_Image         int64\n",
       "Read_Reviews        int64\n",
       "Category_View       int64\n",
       "Read_Details        int64\n",
       "Video_View          int64\n",
       "Add_to_List         int64\n",
       "Compare_Products    int64\n",
       "View_Similar        int64\n",
       "Save_for_Later      int64\n",
       "Personalized        int64\n",
       "BUY                 int64\n",
       "dtype: object"
      ]
     },
     "execution_count": 2,
     "metadata": {},
     "output_type": "execute_result"
    }
   ],
   "source": [
    "from pandas import Series, DataFrame\n",
    "import pandas as pd\n",
    "import numpy as np\n",
    "import os\n",
    "import matplotlib.pylab as plt\n",
    "from sklearn.model_selection  import train_test_split\n",
    "from sklearn.tree import DecisionTreeClassifier\n",
    "from sklearn.metrics import classification_report\n",
    "import sklearn.metrics\n",
    "\n",
    "prospect_data = pd.read_csv(\"C:/Users/User/Desktop/target_app.csv\")\n",
    "\n",
    "prospect_data.dtypes"
   ]
  },
  {
   "cell_type": "markdown",
   "metadata": {},
   "source": [
    "Os dados contêm informações sobre os diversos links do site que são clicados pelo usuário durante sua navegação. Esses são dados anteriores que serão usados ​​para construir o modelo.\n",
    "\n",
    "- Session ID : um identificador exclusivo para a sessão de navegação na web\n",
    "- Buy: se o cliente potencial acabou comprando o produto\n",
    "- Outras colunas: um indicador de 0 ou 1 para mostrar se o cliente potencial visitou aquela página específica ou realizou a atividade mencionada.\n"
   ]
  },
  {
   "cell_type": "code",
   "execution_count": 3,
   "metadata": {},
   "outputs": [
    {
     "data": {
      "text/html": [
       "<div>\n",
       "<style scoped>\n",
       "    .dataframe tbody tr th:only-of-type {\n",
       "        vertical-align: middle;\n",
       "    }\n",
       "\n",
       "    .dataframe tbody tr th {\n",
       "        vertical-align: top;\n",
       "    }\n",
       "\n",
       "    .dataframe thead th {\n",
       "        text-align: right;\n",
       "    }\n",
       "</style>\n",
       "<table border=\"1\" class=\"dataframe\">\n",
       "  <thead>\n",
       "    <tr style=\"text-align: right;\">\n",
       "      <th></th>\n",
       "      <th>SESSION_ID</th>\n",
       "      <th>Click_Image</th>\n",
       "      <th>Read_Reviews</th>\n",
       "      <th>Category_View</th>\n",
       "      <th>Read_Details</th>\n",
       "      <th>Video_View</th>\n",
       "      <th>Add_to_List</th>\n",
       "      <th>Compare_Products</th>\n",
       "      <th>View_Similar</th>\n",
       "      <th>Save_for_Later</th>\n",
       "      <th>Personalized</th>\n",
       "      <th>BUY</th>\n",
       "    </tr>\n",
       "  </thead>\n",
       "  <tbody>\n",
       "    <tr>\n",
       "      <th>0</th>\n",
       "      <td>27873</td>\n",
       "      <td>0</td>\n",
       "      <td>0</td>\n",
       "      <td>1</td>\n",
       "      <td>0</td>\n",
       "      <td>1</td>\n",
       "      <td>0</td>\n",
       "      <td>0</td>\n",
       "      <td>0</td>\n",
       "      <td>1</td>\n",
       "      <td>0</td>\n",
       "      <td>0</td>\n",
       "    </tr>\n",
       "    <tr>\n",
       "      <th>1</th>\n",
       "      <td>27874</td>\n",
       "      <td>0</td>\n",
       "      <td>1</td>\n",
       "      <td>1</td>\n",
       "      <td>0</td>\n",
       "      <td>0</td>\n",
       "      <td>0</td>\n",
       "      <td>0</td>\n",
       "      <td>0</td>\n",
       "      <td>0</td>\n",
       "      <td>1</td>\n",
       "      <td>0</td>\n",
       "    </tr>\n",
       "    <tr>\n",
       "      <th>2</th>\n",
       "      <td>27875</td>\n",
       "      <td>1</td>\n",
       "      <td>0</td>\n",
       "      <td>1</td>\n",
       "      <td>1</td>\n",
       "      <td>1</td>\n",
       "      <td>0</td>\n",
       "      <td>0</td>\n",
       "      <td>0</td>\n",
       "      <td>1</td>\n",
       "      <td>0</td>\n",
       "      <td>0</td>\n",
       "    </tr>\n",
       "    <tr>\n",
       "      <th>3</th>\n",
       "      <td>27876</td>\n",
       "      <td>1</td>\n",
       "      <td>0</td>\n",
       "      <td>0</td>\n",
       "      <td>0</td>\n",
       "      <td>1</td>\n",
       "      <td>1</td>\n",
       "      <td>1</td>\n",
       "      <td>0</td>\n",
       "      <td>0</td>\n",
       "      <td>0</td>\n",
       "      <td>0</td>\n",
       "    </tr>\n",
       "    <tr>\n",
       "      <th>4</th>\n",
       "      <td>27877</td>\n",
       "      <td>1</td>\n",
       "      <td>1</td>\n",
       "      <td>1</td>\n",
       "      <td>0</td>\n",
       "      <td>1</td>\n",
       "      <td>0</td>\n",
       "      <td>1</td>\n",
       "      <td>0</td>\n",
       "      <td>0</td>\n",
       "      <td>0</td>\n",
       "      <td>0</td>\n",
       "    </tr>\n",
       "  </tbody>\n",
       "</table>\n",
       "</div>"
      ],
      "text/plain": [
       "   SESSION_ID  Click_Image  Read_Reviews  Category_View  Read_Details  \\\n",
       "0       27873            0             0              1             0   \n",
       "1       27874            0             1              1             0   \n",
       "2       27875            1             0              1             1   \n",
       "3       27876            1             0              0             0   \n",
       "4       27877            1             1              1             0   \n",
       "\n",
       "   Video_View  Add_to_List  Compare_Products  View_Similar  Save_for_Later  \\\n",
       "0           1            0                 0             0               1   \n",
       "1           0            0                 0             0               0   \n",
       "2           1            0                 0             0               1   \n",
       "3           1            1                 1             0               0   \n",
       "4           1            0                 1             0               0   \n",
       "\n",
       "   Personalized  BUY  \n",
       "0             0    0  \n",
       "1             1    0  \n",
       "2             0    0  \n",
       "3             0    0  \n",
       "4             0    0  "
      ]
     },
     "execution_count": 3,
     "metadata": {},
     "output_type": "execute_result"
    }
   ],
   "source": [
    "# Inspecionando os Dados Disponíveis\n",
    "prospect_data.head()"
   ]
  },
  {
   "cell_type": "code",
   "execution_count": 4,
   "metadata": {},
   "outputs": [
    {
     "data": {
      "text/html": [
       "<div>\n",
       "<style scoped>\n",
       "    .dataframe tbody tr th:only-of-type {\n",
       "        vertical-align: middle;\n",
       "    }\n",
       "\n",
       "    .dataframe tbody tr th {\n",
       "        vertical-align: top;\n",
       "    }\n",
       "\n",
       "    .dataframe thead th {\n",
       "        text-align: right;\n",
       "    }\n",
       "</style>\n",
       "<table border=\"1\" class=\"dataframe\">\n",
       "  <thead>\n",
       "    <tr style=\"text-align: right;\">\n",
       "      <th></th>\n",
       "      <th>SESSION_ID</th>\n",
       "      <th>Click_Image</th>\n",
       "      <th>Read_Reviews</th>\n",
       "      <th>Category_View</th>\n",
       "      <th>Read_Details</th>\n",
       "      <th>Video_View</th>\n",
       "      <th>Add_to_List</th>\n",
       "      <th>Compare_Products</th>\n",
       "      <th>View_Similar</th>\n",
       "      <th>Save_for_Later</th>\n",
       "      <th>Personalized</th>\n",
       "      <th>BUY</th>\n",
       "    </tr>\n",
       "  </thead>\n",
       "  <tbody>\n",
       "    <tr>\n",
       "      <th>count</th>\n",
       "      <td>500.000000</td>\n",
       "      <td>500.000000</td>\n",
       "      <td>500.0000</td>\n",
       "      <td>500.000000</td>\n",
       "      <td>500.0000</td>\n",
       "      <td>500.000000</td>\n",
       "      <td>500.000000</td>\n",
       "      <td>500.000000</td>\n",
       "      <td>500.000000</td>\n",
       "      <td>500.000000</td>\n",
       "      <td>500.000000</td>\n",
       "      <td>500.000000</td>\n",
       "    </tr>\n",
       "    <tr>\n",
       "      <th>mean</th>\n",
       "      <td>28122.500000</td>\n",
       "      <td>0.510000</td>\n",
       "      <td>0.5200</td>\n",
       "      <td>0.440000</td>\n",
       "      <td>0.4800</td>\n",
       "      <td>0.528000</td>\n",
       "      <td>0.500000</td>\n",
       "      <td>0.580000</td>\n",
       "      <td>0.468000</td>\n",
       "      <td>0.532000</td>\n",
       "      <td>0.550000</td>\n",
       "      <td>0.370000</td>\n",
       "    </tr>\n",
       "    <tr>\n",
       "      <th>std</th>\n",
       "      <td>144.481833</td>\n",
       "      <td>0.500401</td>\n",
       "      <td>0.5001</td>\n",
       "      <td>0.496884</td>\n",
       "      <td>0.5001</td>\n",
       "      <td>0.499715</td>\n",
       "      <td>0.500501</td>\n",
       "      <td>0.494053</td>\n",
       "      <td>0.499475</td>\n",
       "      <td>0.499475</td>\n",
       "      <td>0.497992</td>\n",
       "      <td>0.483288</td>\n",
       "    </tr>\n",
       "    <tr>\n",
       "      <th>min</th>\n",
       "      <td>27873.000000</td>\n",
       "      <td>0.000000</td>\n",
       "      <td>0.0000</td>\n",
       "      <td>0.000000</td>\n",
       "      <td>0.0000</td>\n",
       "      <td>0.000000</td>\n",
       "      <td>0.000000</td>\n",
       "      <td>0.000000</td>\n",
       "      <td>0.000000</td>\n",
       "      <td>0.000000</td>\n",
       "      <td>0.000000</td>\n",
       "      <td>0.000000</td>\n",
       "    </tr>\n",
       "    <tr>\n",
       "      <th>25%</th>\n",
       "      <td>27997.750000</td>\n",
       "      <td>0.000000</td>\n",
       "      <td>0.0000</td>\n",
       "      <td>0.000000</td>\n",
       "      <td>0.0000</td>\n",
       "      <td>0.000000</td>\n",
       "      <td>0.000000</td>\n",
       "      <td>0.000000</td>\n",
       "      <td>0.000000</td>\n",
       "      <td>0.000000</td>\n",
       "      <td>0.000000</td>\n",
       "      <td>0.000000</td>\n",
       "    </tr>\n",
       "    <tr>\n",
       "      <th>50%</th>\n",
       "      <td>28122.500000</td>\n",
       "      <td>1.000000</td>\n",
       "      <td>1.0000</td>\n",
       "      <td>0.000000</td>\n",
       "      <td>0.0000</td>\n",
       "      <td>1.000000</td>\n",
       "      <td>0.500000</td>\n",
       "      <td>1.000000</td>\n",
       "      <td>0.000000</td>\n",
       "      <td>1.000000</td>\n",
       "      <td>1.000000</td>\n",
       "      <td>0.000000</td>\n",
       "    </tr>\n",
       "    <tr>\n",
       "      <th>75%</th>\n",
       "      <td>28247.250000</td>\n",
       "      <td>1.000000</td>\n",
       "      <td>1.0000</td>\n",
       "      <td>1.000000</td>\n",
       "      <td>1.0000</td>\n",
       "      <td>1.000000</td>\n",
       "      <td>1.000000</td>\n",
       "      <td>1.000000</td>\n",
       "      <td>1.000000</td>\n",
       "      <td>1.000000</td>\n",
       "      <td>1.000000</td>\n",
       "      <td>1.000000</td>\n",
       "    </tr>\n",
       "    <tr>\n",
       "      <th>max</th>\n",
       "      <td>28372.000000</td>\n",
       "      <td>1.000000</td>\n",
       "      <td>1.0000</td>\n",
       "      <td>1.000000</td>\n",
       "      <td>1.0000</td>\n",
       "      <td>1.000000</td>\n",
       "      <td>1.000000</td>\n",
       "      <td>1.000000</td>\n",
       "      <td>1.000000</td>\n",
       "      <td>1.000000</td>\n",
       "      <td>1.000000</td>\n",
       "      <td>1.000000</td>\n",
       "    </tr>\n",
       "  </tbody>\n",
       "</table>\n",
       "</div>"
      ],
      "text/plain": [
       "         SESSION_ID  Click_Image  Read_Reviews  Category_View  Read_Details  \\\n",
       "count    500.000000   500.000000      500.0000     500.000000      500.0000   \n",
       "mean   28122.500000     0.510000        0.5200       0.440000        0.4800   \n",
       "std      144.481833     0.500401        0.5001       0.496884        0.5001   \n",
       "min    27873.000000     0.000000        0.0000       0.000000        0.0000   \n",
       "25%    27997.750000     0.000000        0.0000       0.000000        0.0000   \n",
       "50%    28122.500000     1.000000        1.0000       0.000000        0.0000   \n",
       "75%    28247.250000     1.000000        1.0000       1.000000        1.0000   \n",
       "max    28372.000000     1.000000        1.0000       1.000000        1.0000   \n",
       "\n",
       "       Video_View  Add_to_List  Compare_Products  View_Similar  \\\n",
       "count  500.000000   500.000000        500.000000    500.000000   \n",
       "mean     0.528000     0.500000          0.580000      0.468000   \n",
       "std      0.499715     0.500501          0.494053      0.499475   \n",
       "min      0.000000     0.000000          0.000000      0.000000   \n",
       "25%      0.000000     0.000000          0.000000      0.000000   \n",
       "50%      1.000000     0.500000          1.000000      0.000000   \n",
       "75%      1.000000     1.000000          1.000000      1.000000   \n",
       "max      1.000000     1.000000          1.000000      1.000000   \n",
       "\n",
       "       Save_for_Later  Personalized         BUY  \n",
       "count      500.000000    500.000000  500.000000  \n",
       "mean         0.532000      0.550000    0.370000  \n",
       "std          0.499475      0.497992    0.483288  \n",
       "min          0.000000      0.000000    0.000000  \n",
       "25%          0.000000      0.000000    0.000000  \n",
       "50%          1.000000      1.000000    0.000000  \n",
       "75%          1.000000      1.000000    1.000000  \n",
       "max          1.000000      1.000000    1.000000  "
      ]
     },
     "execution_count": 4,
     "metadata": {},
     "output_type": "execute_result"
    }
   ],
   "source": [
    "#Fazendo uma análise estatística resumida dos dados\n",
    "prospect_data.describe()"
   ]
  },
  {
   "cell_type": "markdown",
   "metadata": {},
   "source": [
    "### Realizando análise de correlação"
   ]
  },
  {
   "cell_type": "code",
   "execution_count": 5,
   "metadata": {},
   "outputs": [
    {
     "data": {
      "text/plain": [
       "SESSION_ID          0.026677\n",
       "Click_Image         0.046819\n",
       "Read_Reviews        0.404628\n",
       "Category_View      -0.095136\n",
       "Read_Details        0.009950\n",
       "Video_View         -0.022239\n",
       "Add_to_List        -0.103562\n",
       "Compare_Products    0.190522\n",
       "View_Similar       -0.096137\n",
       "Save_for_Later      0.179156\n",
       "Personalized        0.110328\n",
       "BUY                 1.000000\n",
       "Name: BUY, dtype: float64"
      ]
     },
     "execution_count": 5,
     "metadata": {},
     "output_type": "execute_result"
    }
   ],
   "source": [
    "prospect_data.corr()['BUY']"
   ]
  },
  {
   "cell_type": "markdown",
   "metadata": {},
   "source": [
    "Observando as correlações acima podemos ver que alguns recursos como Read_Reviews, Compare_Products, Add_to_List, Save_for_Later e Personalized possuem correlação média com a variável alvo. Reduziremos nosso conjunto de recursos a essa lista de variáveis."
   ]
  },
  {
   "cell_type": "code",
   "execution_count": 8,
   "metadata": {},
   "outputs": [],
   "source": [
    "#Eliminar colunas com baixa correlação\n",
    "predictors = prospect_data[['Read_Reviews','Compare_Products','Add_to_List','Save_for_Later','Personalized','View_Similar']]\n",
    "targets = prospect_data.BUY\n"
   ]
  },
  {
   "cell_type": "markdown",
   "metadata": {},
   "source": [
    "##  Divisão de treinamento e teste\n",
    "\n",
    "Agora dividimos o modelo em dados de treinamento e teste na proporção de 70:30"
   ]
  },
  {
   "cell_type": "code",
   "execution_count": 9,
   "metadata": {},
   "outputs": [
    {
     "name": "stdout",
     "output_type": "stream",
     "text": [
      "Predictor - Training :  (350, 6) Predictor - Testing :  (150, 6)\n"
     ]
    }
   ],
   "source": [
    "pred_train, pred_test, tar_train, tar_test  =   train_test_split(predictors, targets, test_size=.3)\n",
    "\n",
    "print( \"Predictor - Training : \", pred_train.shape, \"Predictor - Testing : \", pred_test.shape )\n"
   ]
  },
  {
   "cell_type": "markdown",
   "metadata": {},
   "source": [
    "## Construir modelo e verificar a precisão"
   ]
  },
  {
   "cell_type": "code",
   "execution_count": 10,
   "metadata": {},
   "outputs": [
    {
     "data": {
      "text/plain": [
       "array([[80, 21],\n",
       "       [25, 24]], dtype=int64)"
      ]
     },
     "execution_count": 10,
     "metadata": {},
     "output_type": "execute_result"
    }
   ],
   "source": [
    "from sklearn.naive_bayes import GaussianNB\n",
    "\n",
    "classifier=GaussianNB()\n",
    "classifier=classifier.fit(pred_train,tar_train)\n",
    "\n",
    "predictions=classifier.predict(pred_test)\n",
    "\n",
    "#Analyze accuracy of predictions\n",
    "sklearn.metrics.confusion_matrix(tar_test,predictions)\n"
   ]
  },
  {
   "cell_type": "code",
   "execution_count": 11,
   "metadata": {},
   "outputs": [
    {
     "data": {
      "text/plain": [
       "0.6933333333333334"
      ]
     },
     "execution_count": 11,
     "metadata": {},
     "output_type": "execute_result"
    }
   ],
   "source": [
    "sklearn.metrics.accuracy_score(tar_test, predictions)"
   ]
  },
  {
   "cell_type": "markdown",
   "metadata": {},
   "source": [
    "Em vez de fazer uma previsão Sim/Não, podemos fazer um cálculo de probabilidade para mostrar a probabilidade do cliente potencial comprar o produto"
   ]
  },
  {
   "cell_type": "code",
   "execution_count": 12,
   "metadata": {},
   "outputs": [
    {
     "data": {
      "text/plain": [
       "0.06503038919293792"
      ]
     },
     "execution_count": 12,
     "metadata": {},
     "output_type": "execute_result"
    }
   ],
   "source": [
    "pred_prob=classifier.predict_proba(pred_test)\n",
    "pred_prob[0,1]"
   ]
  },
  {
   "cell_type": "markdown",
   "metadata": {},
   "source": [
    "A probabilidade acima pode ser lida como X% de chance de o cliente potencial comprar o produto."
   ]
  },
  {
   "cell_type": "markdown",
   "metadata": {},
   "source": [
    "## Previsões em tempo real\n",
    "\n",
    "Agora que o modelo foi construído, vamos usá-lo para previsões em tempo real. Assim, quando o cliente começa a visitar as páginas uma por uma, coletamos essa lista e a usamos para calcular a probabilidade. Fazemos isso para cada novo clique que chega.\n",
    "\n",
    "Então vamos começar. O cliente em potencial acabou de acessar seu site. Não há cliques significativos. Vamos calcular a probabilidade. A matriz de valores passada possui os valores para 'Read_Reviews','Compare_Products','Add_to_List','Save_for_Later','Personalized'. Então a matriz é toda zeros para começar"
   ]
  },
  {
   "cell_type": "code",
   "execution_count": 13,
   "metadata": {},
   "outputs": [
    {
     "name": "stdout",
     "output_type": "stream",
     "text": [
      "New User: propensity : [0.04645303]\n"
     ]
    },
    {
     "name": "stderr",
     "output_type": "stream",
     "text": [
      "C:\\Users\\User\\anaconda3\\Lib\\site-packages\\sklearn\\base.py:464: UserWarning: X does not have valid feature names, but GaussianNB was fitted with feature names\n",
      "  warnings.warn(\n"
     ]
    }
   ],
   "source": [
    "browsing_data = np.array([0,0,0,0,0,0]).reshape(1, -1)\n",
    "print(\"New User: propensity :\",classifier.predict_proba(browsing_data)[:,1] )\n"
   ]
  },
  {
   "cell_type": "markdown",
   "metadata": {},
   "source": [
    "Portanto, a probabilidade inicial é de 4%. Agora, suponha que o cliente faça uma comparação de produtos semelhantes. A matriz muda para incluir 1 para essa função. A nova probabilidade será"
   ]
  },
  {
   "cell_type": "code",
   "execution_count": 14,
   "metadata": {},
   "outputs": [
    {
     "name": "stdout",
     "output_type": "stream",
     "text": [
      "After Add_to_List: propensity : [0.03712185]\n"
     ]
    },
    {
     "name": "stderr",
     "output_type": "stream",
     "text": [
      "C:\\Users\\User\\anaconda3\\Lib\\site-packages\\sklearn\\base.py:464: UserWarning: X does not have valid feature names, but GaussianNB was fitted with feature names\n",
      "  warnings.warn(\n"
     ]
    }
   ],
   "source": [
    "browsing_data = np.array([0,0,1,0,0,0]).reshape(1, -1)\n",
    "print(\"After Add_to_List: propensity :\",classifier.predict_proba(browsing_data)[:,1] )\n"
   ]
  },
  {
   "cell_type": "markdown",
   "metadata": {},
   "source": [
    "Ele sobe. Em seguida, ele verifica as avaliações."
   ]
  },
  {
   "cell_type": "code",
   "execution_count": 15,
   "metadata": {},
   "outputs": [
    {
     "name": "stdout",
     "output_type": "stream",
     "text": [
      "After Compare_Products e Add_to_List: propensity : [0.1272649]\n"
     ]
    },
    {
     "name": "stderr",
     "output_type": "stream",
     "text": [
      "C:\\Users\\User\\anaconda3\\Lib\\site-packages\\sklearn\\base.py:464: UserWarning: X does not have valid feature names, but GaussianNB was fitted with feature names\n",
      "  warnings.warn(\n"
     ]
    }
   ],
   "source": [
    "browsing_data = np.array([0,1,0,0,0,0]).reshape(1, -1)\n",
    "print(\"After Compare_Products e Add_to_List: propensity :\",classifier.predict_proba(browsing_data)[:,1] )\n"
   ]
  },
  {
   "cell_type": "markdown",
   "metadata": {},
   "source": [
    "Ele dispara até 50+%. Você pode definir um limite para quando deseja oferecer bate-papo. Você pode continuar verificando essa probabilidade em relação a esse limite para ver se deseja abrir uma janela de bate-papo.\n",
    "\n",
    "Este exemplo mostra como você pode usar a análise preditiva em tempo real para decidir se um cliente potencial tem alta propensão para conversão e oferecer a ele um bate-papo com um representante/agente de vendas."
   ]
  },
  {
   "cell_type": "code",
   "execution_count": null,
   "metadata": {
    "collapsed": true,
    "jupyter": {
     "outputs_hidden": true
    }
   },
   "outputs": [],
   "source": []
  }
 ],
 "metadata": {
  "kernelspec": {
   "display_name": "Python 3 (ipykernel)",
   "language": "python",
   "name": "python3"
  },
  "language_info": {
   "codemirror_mode": {
    "name": "ipython",
    "version": 3
   },
   "file_extension": ".py",
   "mimetype": "text/x-python",
   "name": "python",
   "nbconvert_exporter": "python",
   "pygments_lexer": "ipython3",
   "version": "3.12.7"
  }
 },
 "nbformat": 4,
 "nbformat_minor": 4
}
